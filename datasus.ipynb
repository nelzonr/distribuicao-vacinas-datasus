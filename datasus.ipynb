{
 "cells": [
  {
   "cell_type": "code",
   "execution_count": 6,
   "id": "04015986-8d2d-4a4a-9bd1-ce09bb65284a",
   "metadata": {},
   "outputs": [],
   "source": [
    "from selenium import webdriver\n",
    "from selenium.webdriver.chrome.options import Options\n",
    "from webdriver_manager.chrome import ChromeDriverManager"
   ]
  },
  {
   "cell_type": "code",
   "execution_count": 7,
   "id": "42f5cd19-0ec9-4df6-8d7c-5cdcc9116fa8",
   "metadata": {},
   "outputs": [
    {
     "name": "stderr",
     "output_type": "stream",
     "text": [
      "C:\\Users\\nklever\\AppData\\Local\\Temp\\ipykernel_3824\\4066870967.py:4: DeprecationWarning: executable_path has been deprecated, please pass in a Service object\n",
      "  driver = webdriver.Chrome(ChromeDriverManager().install(), chrome_options=options)\n",
      "C:\\Users\\nklever\\AppData\\Local\\Temp\\ipykernel_3824\\4066870967.py:4: DeprecationWarning: use options instead of chrome_options\n",
      "  driver = webdriver.Chrome(ChromeDriverManager().install(), chrome_options=options)\n"
     ]
    }
   ],
   "source": [
    "options = Options()\n",
    "options.add_argument('--headless')\n",
    "\n",
    "driver = webdriver.Chrome(ChromeDriverManager().install(), chrome_options=options)"
   ]
  },
  {
   "cell_type": "code",
   "execution_count": 8,
   "id": "aba649df-f962-4f0f-a2fc-725b3a896730",
   "metadata": {},
   "outputs": [
    {
     "data": {
      "text/plain": [
       "'Painel de Distribuição de Vacinas'"
      ]
     },
     "execution_count": 8,
     "metadata": {},
     "output_type": "execute_result"
    }
   ],
   "source": [
    "url = 'https://infoms.saude.gov.br/extensions/DEMAS_C19VAC_Distr/DEMAS_C19VAC_Distr.html'\n",
    "driver.get(url)\n",
    "driver.title"
   ]
  },
  {
   "cell_type": "code",
   "execution_count": 9,
   "id": "65491b16-f07e-4f60-9537-7d48a37cb575",
   "metadata": {},
   "outputs": [
    {
     "ename": "TimeoutException",
     "evalue": "Message: script timeout\n  (Session info: headless chrome=109.0.5414.75)\nStacktrace:\nBacktrace:\n\t(No symbol) [0x004E6643]\n\t(No symbol) [0x0047BE21]\n\t(No symbol) [0x0037D960]\n\t(No symbol) [0x003E7D41]\n\t(No symbol) [0x003CFD7C]\n\t(No symbol) [0x003E6B09]\n\t(No symbol) [0x003CFB76]\n\t(No symbol) [0x003A49C1]\n\t(No symbol) [0x003A5E5D]\n\tGetHandleVerifier [0x0075A142+2497106]\n\tGetHandleVerifier [0x007885D3+2686691]\n\tGetHandleVerifier [0x0078BB9C+2700460]\n\tGetHandleVerifier [0x00593B10+635936]\n\t(No symbol) [0x00484A1F]\n\t(No symbol) [0x0048A418]\n\t(No symbol) [0x0048A505]\n\t(No symbol) [0x0049508B]\n\tBaseThreadInitThunk [0x76327D49+25]\n\tRtlInitializeExceptionChain [0x777AC56B+107]\n\tRtlGetAppContainerNamedObjectPath [0x777AC4EE+238]\n",
     "output_type": "error",
     "traceback": [
      "\u001b[1;31m---------------------------------------------------------------------------\u001b[0m",
      "\u001b[1;31mTimeoutException\u001b[0m                          Traceback (most recent call last)",
      "Cell \u001b[1;32mIn[9], line 4\u001b[0m\n\u001b[0;32m      1\u001b[0m \u001b[38;5;28;01mwith\u001b[39;00m \u001b[38;5;28mopen\u001b[39m(\u001b[38;5;124m'\u001b[39m\u001b[38;5;124mscript.js\u001b[39m\u001b[38;5;124m'\u001b[39m) \u001b[38;5;28;01mas\u001b[39;00m script_js:\n\u001b[0;32m      2\u001b[0m     js \u001b[38;5;241m=\u001b[39m script_js\u001b[38;5;241m.\u001b[39mread()\n\u001b[1;32m----> 4\u001b[0m \u001b[43mdriver\u001b[49m\u001b[38;5;241;43m.\u001b[39;49m\u001b[43mexecute_async_script\u001b[49m\u001b[43m(\u001b[49m\u001b[43mjs\u001b[49m\u001b[43m)\u001b[49m\n\u001b[0;32m      5\u001b[0m driver\u001b[38;5;241m.\u001b[39mexecute_script(\u001b[38;5;124m'\u001b[39m\u001b[38;5;124mreturn JSON.stringify(logs)\u001b[39m\u001b[38;5;124m'\u001b[39m)\n",
      "File \u001b[1;32m~\\Miniconda3\\lib\\site-packages\\selenium\\webdriver\\remote\\webdriver.py:519\u001b[0m, in \u001b[0;36mWebDriver.execute_async_script\u001b[1;34m(self, script, *args)\u001b[0m\n\u001b[0;32m    516\u001b[0m converted_args \u001b[38;5;241m=\u001b[39m \u001b[38;5;28mlist\u001b[39m(args)\n\u001b[0;32m    517\u001b[0m command \u001b[38;5;241m=\u001b[39m Command\u001b[38;5;241m.\u001b[39mW3C_EXECUTE_SCRIPT_ASYNC\n\u001b[1;32m--> 519\u001b[0m \u001b[38;5;28;01mreturn\u001b[39;00m \u001b[38;5;28;43mself\u001b[39;49m\u001b[38;5;241;43m.\u001b[39;49m\u001b[43mexecute\u001b[49m\u001b[43m(\u001b[49m\u001b[43mcommand\u001b[49m\u001b[43m,\u001b[49m\u001b[43m \u001b[49m\u001b[43m{\u001b[49m\u001b[38;5;124;43m\"\u001b[39;49m\u001b[38;5;124;43mscript\u001b[39;49m\u001b[38;5;124;43m\"\u001b[39;49m\u001b[43m:\u001b[49m\u001b[43m \u001b[49m\u001b[43mscript\u001b[49m\u001b[43m,\u001b[49m\u001b[43m \u001b[49m\u001b[38;5;124;43m\"\u001b[39;49m\u001b[38;5;124;43margs\u001b[39;49m\u001b[38;5;124;43m\"\u001b[39;49m\u001b[43m:\u001b[49m\u001b[43m \u001b[49m\u001b[43mconverted_args\u001b[49m\u001b[43m}\u001b[49m\u001b[43m)\u001b[49m[\u001b[38;5;124m\"\u001b[39m\u001b[38;5;124mvalue\u001b[39m\u001b[38;5;124m\"\u001b[39m]\n",
      "File \u001b[1;32m~\\Miniconda3\\lib\\site-packages\\selenium\\webdriver\\remote\\webdriver.py:440\u001b[0m, in \u001b[0;36mWebDriver.execute\u001b[1;34m(self, driver_command, params)\u001b[0m\n\u001b[0;32m    438\u001b[0m response \u001b[38;5;241m=\u001b[39m \u001b[38;5;28mself\u001b[39m\u001b[38;5;241m.\u001b[39mcommand_executor\u001b[38;5;241m.\u001b[39mexecute(driver_command, params)\n\u001b[0;32m    439\u001b[0m \u001b[38;5;28;01mif\u001b[39;00m response:\n\u001b[1;32m--> 440\u001b[0m     \u001b[38;5;28;43mself\u001b[39;49m\u001b[38;5;241;43m.\u001b[39;49m\u001b[43merror_handler\u001b[49m\u001b[38;5;241;43m.\u001b[39;49m\u001b[43mcheck_response\u001b[49m\u001b[43m(\u001b[49m\u001b[43mresponse\u001b[49m\u001b[43m)\u001b[49m\n\u001b[0;32m    441\u001b[0m     response[\u001b[38;5;124m\"\u001b[39m\u001b[38;5;124mvalue\u001b[39m\u001b[38;5;124m\"\u001b[39m] \u001b[38;5;241m=\u001b[39m \u001b[38;5;28mself\u001b[39m\u001b[38;5;241m.\u001b[39m_unwrap_value(response\u001b[38;5;241m.\u001b[39mget(\u001b[38;5;124m\"\u001b[39m\u001b[38;5;124mvalue\u001b[39m\u001b[38;5;124m\"\u001b[39m, \u001b[38;5;28;01mNone\u001b[39;00m))\n\u001b[0;32m    442\u001b[0m     \u001b[38;5;28;01mreturn\u001b[39;00m response\n",
      "File \u001b[1;32m~\\Miniconda3\\lib\\site-packages\\selenium\\webdriver\\remote\\errorhandler.py:245\u001b[0m, in \u001b[0;36mErrorHandler.check_response\u001b[1;34m(self, response)\u001b[0m\n\u001b[0;32m    243\u001b[0m         alert_text \u001b[38;5;241m=\u001b[39m value[\u001b[38;5;124m\"\u001b[39m\u001b[38;5;124malert\u001b[39m\u001b[38;5;124m\"\u001b[39m]\u001b[38;5;241m.\u001b[39mget(\u001b[38;5;124m\"\u001b[39m\u001b[38;5;124mtext\u001b[39m\u001b[38;5;124m\"\u001b[39m)\n\u001b[0;32m    244\u001b[0m     \u001b[38;5;28;01mraise\u001b[39;00m exception_class(message, screen, stacktrace, alert_text)  \u001b[38;5;66;03m# type: ignore[call-arg]  # mypy is not smart enough here\u001b[39;00m\n\u001b[1;32m--> 245\u001b[0m \u001b[38;5;28;01mraise\u001b[39;00m exception_class(message, screen, stacktrace)\n",
      "\u001b[1;31mTimeoutException\u001b[0m: Message: script timeout\n  (Session info: headless chrome=109.0.5414.75)\nStacktrace:\nBacktrace:\n\t(No symbol) [0x004E6643]\n\t(No symbol) [0x0047BE21]\n\t(No symbol) [0x0037D960]\n\t(No symbol) [0x003E7D41]\n\t(No symbol) [0x003CFD7C]\n\t(No symbol) [0x003E6B09]\n\t(No symbol) [0x003CFB76]\n\t(No symbol) [0x003A49C1]\n\t(No symbol) [0x003A5E5D]\n\tGetHandleVerifier [0x0075A142+2497106]\n\tGetHandleVerifier [0x007885D3+2686691]\n\tGetHandleVerifier [0x0078BB9C+2700460]\n\tGetHandleVerifier [0x00593B10+635936]\n\t(No symbol) [0x00484A1F]\n\t(No symbol) [0x0048A418]\n\t(No symbol) [0x0048A505]\n\t(No symbol) [0x0049508B]\n\tBaseThreadInitThunk [0x76327D49+25]\n\tRtlInitializeExceptionChain [0x777AC56B+107]\n\tRtlGetAppContainerNamedObjectPath [0x777AC4EE+238]\n"
     ]
    }
   ],
   "source": [
    "with open('script.js') as script_js:\n",
    "    js = script_js.read()\n",
    "\n",
    "driver.execute_async_script(js)\n",
    "driver.execute_script('return JSON.stringify(logs)')"
   ]
  },
  {
   "cell_type": "code",
   "execution_count": null,
   "id": "8c14a2d0-9207-4469-bbe6-ae743c6e0346",
   "metadata": {},
   "outputs": [],
   "source": [
    "driver.close()"
   ]
  }
 ],
 "metadata": {
  "kernelspec": {
   "display_name": "Python 3 (ipykernel)",
   "language": "python",
   "name": "python3"
  },
  "language_info": {
   "codemirror_mode": {
    "name": "ipython",
    "version": 3
   },
   "file_extension": ".py",
   "mimetype": "text/x-python",
   "name": "python",
   "nbconvert_exporter": "python",
   "pygments_lexer": "ipython3",
   "version": "3.9.12"
  }
 },
 "nbformat": 4,
 "nbformat_minor": 5
}
